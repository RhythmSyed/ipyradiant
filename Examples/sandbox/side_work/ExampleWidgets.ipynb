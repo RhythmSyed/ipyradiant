{
 "cells": [
  {
   "cell_type": "code",
   "execution_count": 20,
   "metadata": {},
   "outputs": [
    {
     "name": "stdout",
     "output_type": "stream",
     "text": [
      "Number of triples in the graph: 8885\n"
     ]
    }
   ],
   "source": [
    "from rdflib import URIRef, Graph\n",
    "from rdflib.namespace import Namespace\n",
    "\n",
    "\n",
    "graph = Graph()\n",
    "graph.parse(\"https://schema.org/version/latest/schema.nt\", format=\"nt\")\n",
    "print(\"Number of triples in the graph:\", len(graph))"
   ]
  },
  {
   "cell_type": "code",
   "execution_count": 22,
   "metadata": {},
   "outputs": [
    {
     "data": {
      "application/vnd.jupyter.widget-view+json": {
       "model_id": "be1850e60d3f414a81b1d5cac34aa108",
       "version_major": 2,
       "version_minor": 0
      },
      "text/plain": [
       "QGRIDGraphWidget(children=(QgridWidget(grid_options={'fullWidthRows': True, 'syncColumnCellResize': True, 'for…"
      ]
     },
     "metadata": {},
     "output_type": "display_data"
    }
   ],
   "source": [
    "tmp = QGRIDGraphWidget()\n",
    "tmp"
   ]
  },
  {
   "cell_type": "code",
   "execution_count": 23,
   "metadata": {},
   "outputs": [],
   "source": [
    "# show \n",
    "tmp.qgridw.df = DataFrame(graph.triples((None, None, None))).head(10)"
   ]
  }
 ],
 "metadata": {
  "kernelspec": {
   "display_name": "Python 3",
   "language": "python",
   "name": "python3"
  },
  "language_info": {
   "codemirror_mode": {
    "name": "ipython",
    "version": 3
   },
   "file_extension": ".py",
   "mimetype": "text/x-python",
   "name": "python",
   "nbconvert_exporter": "python",
   "pygments_lexer": "ipython3",
   "version": "3.7.6"
  }
 },
 "nbformat": 4,
 "nbformat_minor": 4
}
