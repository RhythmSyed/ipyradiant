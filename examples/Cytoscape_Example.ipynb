{
 "cells": [
  {
   "cell_type": "markdown",
   "metadata": {},
   "source": [
    "# A Cytoscape Visualization Example"
   ]
  },
  {
   "cell_type": "code",
   "execution_count": null,
   "metadata": {},
   "outputs": [],
   "source": [
    "import ipywidgets as W\n",
    "import traitlets as T\n",
    "from ipyradiant import (\n",
    "    CytoscapeVisualizer,\n",
    "    LoadWidget\n",
    ")\n",
    "from rdflib import Graph\n",
    "from requests_cache import CachedSession"
   ]
  },
  {
   "cell_type": "code",
   "execution_count": null,
   "metadata": {},
   "outputs": [],
   "source": [
    "session = CachedSession(\".cache\")"
   ]
  },
  {
   "cell_type": "markdown",
   "metadata": {},
   "source": [
    "For this example, we will combine a LoadWidget instance and a CytoscapeVisualizer instance to show how one can use the CytoscapeVisualizer to view an rdflib.graph.Graph object."
   ]
  },
  {
   "cell_type": "code",
   "execution_count": null,
   "metadata": {},
   "outputs": [],
   "source": [
    "class CytoExample(W.VBox):\n",
    "    loader = T.Instance(LoadWidget)\n",
    "    cyto_widget = T.Instance(CytoscapeVisualizer)\n",
    "    \n",
    "    \n",
    "    def __init__(self, *args, **kwargs):\n",
    "        super().__init__(*args, **kwargs)\n",
    "        T.link((self.loader, \"graph\"), (self.cyto_widget, \"graph\"))\n",
    "        #T.link((self, \"graph\"), (self.loader, \"graph\"))\n",
    "        self.children = [self.loader, self.cyto_widget]\n",
    "        \n",
    "    @T.default(\"loader\")\n",
    "    def _make_default_loader(self):\n",
    "        return LoadWidget()\n",
    "    \n",
    "    @T.default(\"cyto_widget\")\n",
    "    def _make_default_cyto_widget(self):\n",
    "        return CytoscapeVisualizer()"
   ]
  },
  {
   "cell_type": "code",
   "execution_count": null,
   "metadata": {},
   "outputs": [],
   "source": [
    "cyto_ex = CytoExample()"
   ]
  },
  {
   "cell_type": "markdown",
   "metadata": {},
   "source": [
    "The LoadWidget takes .ttl files, .rdf files, and .nt files.   \n",
    "*Note*: The CytoscapeVisualizer is preferred to the DatashaderVisualizer for small RDF Graphs, and vis versa for bigger ones.\n",
    "One might experience large loading times and limited interactivity while displaying a large RDF Graph with CytoscapeVisualizer."
   ]
  },
  {
   "cell_type": "code",
   "execution_count": null,
   "metadata": {},
   "outputs": [],
   "source": [
    "cyto_ex"
   ]
  },
  {
   "cell_type": "code",
   "execution_count": null,
   "metadata": {},
   "outputs": [],
   "source": [
    "cyto_ex.cyto_widget.selected_nodes"
   ]
  },
  {
   "cell_type": "code",
   "execution_count": null,
   "metadata": {},
   "outputs": [],
   "source": [
    "len(cyto_ex.cyto_widget.graph.all_nodes())"
   ]
  },
  {
   "cell_type": "code",
   "execution_count": null,
   "metadata": {},
   "outputs": [],
   "source": []
  }
 ],
 "metadata": {
  "kernelspec": {
   "display_name": "Python 3",
   "language": "python",
   "name": "python3"
  },
  "language_info": {
   "codemirror_mode": {
    "name": "ipython",
    "version": 3
   },
   "file_extension": ".py",
   "mimetype": "text/x-python",
   "name": "python",
   "nbconvert_exporter": "python",
   "pygments_lexer": "ipython3",
   "version": "3.7.8"
  }
 },
 "nbformat": 4,
 "nbformat_minor": 4
}
