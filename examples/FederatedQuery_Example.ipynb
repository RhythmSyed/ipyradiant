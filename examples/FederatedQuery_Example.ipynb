{
 "cells": [
  {
   "cell_type": "markdown",
   "metadata": {},
   "source": [
    "# Federated Query Examples"
   ]
  },
  {
   "cell_type": "markdown",
   "metadata": {},
   "source": [
    "This notebook demonstrates Federated querying capabilities using `rdflib` and `SERVICE`"
   ]
  },
  {
   "cell_type": "markdown",
   "metadata": {},
   "source": [
    "### Run a Federated Query using `rdflib` on a remote SPARQL endpoint"
   ]
  },
  {
   "cell_type": "markdown",
   "metadata": {},
   "source": [
    "In the following example, we query a remote graph from the SPARQL endpoint:\n",
    "http://linkeddata.uriburner.com/sparql. We validate the query string using the\n",
    "service_patch as described above. The output of the query is a list of triples that\n",
    "contain the subject, predicate, and objects of the matched results and limits the output\n",
    "to the top 3."
   ]
  },
  {
   "cell_type": "markdown",
   "metadata": {},
   "source": [
    "The power of using federated queries allows for more flexibility of data queries and\n",
    "data integration to in-memory graphs. If we think about a simple use such as Google, the\n",
    "website essentially aggregates data from various sources and combines that into one UI\n",
    "where it is presented to the user. Federated queries allows the capability to gather\n",
    "knowledge from distributed sources into one aggregated knowledge graph."
   ]
  },
  {
   "cell_type": "code",
   "execution_count": null,
   "metadata": {},
   "outputs": [],
   "source": [
    "import ipyradiant\n",
    "from rdflib import Graph"
   ]
  },
  {
   "cell_type": "code",
   "execution_count": null,
   "metadata": {},
   "outputs": [],
   "source": [
    "graph = Graph()\n",
    "query_str = \"\"\"\n",
    "    SELECT DISTINCT ?s ?p ?o\n",
    "    WHERE\n",
    "      { \n",
    "        SERVICE <http://linkeddata.uriburner.com/sparql> \n",
    "          {\n",
    "            SELECT ?s ?p ?o\n",
    "            WHERE {?s ?p ?o}\n",
    "            LIMIT 3                \n",
    "          }\n",
    "      }\n",
    "\"\"\"\n",
    "query_str = ipyradiant.service_patch_rdflib(query_str)\n",
    "print(query_str)"
   ]
  },
  {
   "cell_type": "code",
   "execution_count": null,
   "metadata": {},
   "outputs": [],
   "source": [
    "res = graph.query(query_str)\n",
    "list(res)"
   ]
  },
  {
   "cell_type": "markdown",
   "metadata": {},
   "source": [
    "### Query an in-memory graph and a remote graph"
   ]
  },
  {
   "cell_type": "markdown",
   "metadata": {},
   "source": [
    "This example shows a powerful way to use remote SPAQRL endpoints and federated queries\n",
    "by combining data from remote graphs to an existing in-memory graph. This capability\n",
    "expands the breadth of data sources and allows for more flexibilty for users."
   ]
  },
  {
   "cell_type": "code",
   "execution_count": null,
   "metadata": {},
   "outputs": [],
   "source": [
    "from rdflib import Graph, Literal, URIRef, namespace"
   ]
  },
  {
   "cell_type": "code",
   "execution_count": null,
   "metadata": {},
   "outputs": [],
   "source": [
    "graph = Graph()\n",
    "graph.add(\n",
    "    (\n",
    "        URIRef(\"http://www.w3.org/1999/02/22-rdf-syntax-ns#type\"),\n",
    "        URIRef(\"https://i.imgur.com/0HuwV7e.jpg\"),\n",
    "        URIRef(\"http://www.w3.org/2001/XMLSchema#anyURI\"),\n",
    "    )\n",
    ")\n",
    "list(graph)"
   ]
  },
  {
   "cell_type": "code",
   "execution_count": null,
   "metadata": {},
   "outputs": [],
   "source": [
    "query_str = \"\"\"\n",
    "    SELECT ?p ?o\n",
    "    WHERE {\n",
    "        <http://www.w3.org/1999/02/22-rdf-syntax-ns#type> ?p ?o.\n",
    "        \n",
    "        service <http://linkeddata.uriburner.com/sparql>\n",
    "        {\n",
    "            SELECT ?p ?o\n",
    "            WHERE {\n",
    "                <http://www.w3.org/1999/02/22-rdf-syntax-ns#type> <https://i.imgur.com/4OESFVu.jpg> <http://www.w3.org/2001/XMLSchema#anyURI>.\n",
    "            }\n",
    "        \n",
    "        }\n",
    "    \n",
    "    \n",
    "    }\n",
    "\"\"\"\n",
    "res = graph.query(query_str)\n",
    "list(res)"
   ]
  },
  {
   "cell_type": "markdown",
   "metadata": {},
   "source": [
    "### Another Example: Query an in-memory and remote graph"
   ]
  },
  {
   "cell_type": "markdown",
   "metadata": {},
   "source": [
    "Load local file into an rdflib InMemory storage:"
   ]
  },
  {
   "cell_type": "code",
   "execution_count": null,
   "metadata": {},
   "outputs": [],
   "source": [
    "graph = Graph()\n",
    "graph = graph.parse(\"data/starwars.ttl\", format=\"ttl\")\n",
    "query_str = \"\"\"\n",
    "    SELECT *\n",
    "    WHERE {\n",
    "        ?s ?p ?o .\n",
    "    }\n",
    "    LIMIT 5\n",
    "\"\"\"\n",
    "res = graph.query(query_str)\n",
    "list(res)"
   ]
  },
  {
   "cell_type": "markdown",
   "metadata": {},
   "source": [
    "Add remote query to in-memory graph:"
   ]
  },
  {
   "cell_type": "code",
   "execution_count": null,
   "metadata": {},
   "outputs": [],
   "source": [
    "query_str = \"\"\"\n",
    "    SELECT *\n",
    "    WHERE {\n",
    "        service <http://linkeddata.uriburner.com/sparql> \n",
    "          {\n",
    "            SELECT ?s ?p ?o\n",
    "            WHERE {?s ?p ?o}\n",
    "            LIMIT 3                \n",
    "          }\n",
    "    }\n",
    "    LIMIT 5\n",
    "\"\"\"\n",
    "res = graph.query(query_str)\n",
    "list(res)"
   ]
  },
  {
   "cell_type": "markdown",
   "metadata": {},
   "source": [
    "### Query two remote endpoints"
   ]
  },
  {
   "cell_type": "markdown",
   "metadata": {},
   "source": [
    "This example shows rdflib's ability to run two parallel service queries and aggregate\n",
    "data into a higher level query structure:"
   ]
  },
  {
   "cell_type": "code",
   "execution_count": null,
   "metadata": {},
   "outputs": [],
   "source": [
    "graph = Graph()\n",
    "query_str = \"\"\"\n",
    "    SELECT ?o ?p\n",
    "    WHERE {\n",
    "        service <http://linkeddata.uriburner.com/sparql> \n",
    "          {\n",
    "            SELECT ?o\n",
    "            WHERE {?s ?p ?o}\n",
    "            LIMIT 4                \n",
    "          }\n",
    "        service <http://linkeddata.uriburner.com/sparql> \n",
    "          {\n",
    "            SELECT ?p\n",
    "            WHERE {?s ?p ?o}\n",
    "            LIMIT 4                \n",
    "          }\n",
    "    }\n",
    "    LIMIT 4\n",
    "\"\"\"\n",
    "res = graph.query(query_str)\n",
    "list(res)"
   ]
  },
  {
   "cell_type": "markdown",
   "metadata": {},
   "source": [
    "### Broken Example: Nested Service Calls using rdflib"
   ]
  },
  {
   "cell_type": "markdown",
   "metadata": {},
   "source": [
    "rdflib does not currently support nested service calls. The following is an example of\n",
    "what NOT to do when querying both an in-memory graph and a remote graph:"
   ]
  },
  {
   "cell_type": "code",
   "execution_count": null,
   "metadata": {},
   "outputs": [],
   "source": [
    "WD = namespace.Namespace(\"https://www.wikidata.org/wiki/\")\n",
    "graph = Graph()\n",
    "graph.add((WD.Q28792126, WD.example, Literal(\"Example\")))\n",
    "list(graph)"
   ]
  },
  {
   "cell_type": "code",
   "execution_count": null,
   "metadata": {},
   "outputs": [],
   "source": [
    "query_str = \"\"\"\n",
    "PREFIX wd: <http://www.wikidata.org/entity/>\n",
    "PREFIX wdt: <http://www.wikidata.org/prop/direct/>\n",
    "PREFIX wikibase: <http://wikiba.se/ontology#>\n",
    "PREFIX bd: <http://www.bigdata.com/rdf#>\n",
    "\n",
    "SELECT ?p ?o\n",
    "WHERE {\n",
    "    wd:Q28792126 ?p ?o .\n",
    "\n",
    "    service <https://query.wikidata.org/> \n",
    "    {\n",
    "        SELECT ?p ?o \n",
    "        WHERE \n",
    "        {\n",
    "          BIND(wikibase:label AS ?p)\n",
    "          wd:Q28792126 wdt:P31 wd:Q146\n",
    "          service wikibase:label { \n",
    "              bd:serviceParam wikibase:language \"en\" . \n",
    "          }\n",
    "        } \n",
    "        LIMIT 10\n",
    "    }\n",
    "}\n",
    "\n",
    "\"\"\""
   ]
  },
  {
   "cell_type": "code",
   "execution_count": null,
   "metadata": {},
   "outputs": [],
   "source": [
    "res = graph.query(query_str)\n",
    "list(res)"
   ]
  },
  {
   "cell_type": "markdown",
   "metadata": {},
   "source": [
    "### SERVICE patch for rdflib"
   ]
  },
  {
   "cell_type": "markdown",
   "metadata": {},
   "source": [
    "Currently, rdflib contains a bug where the SERVICE clause is not supported properly.\n",
    "ipyradiant detects when SERVICE is used for federated queries and converts the keyword\n",
    "into lower case for rdflib support. A warning is issued when SERVICE is detected. This\n",
    "patch can be removed for release>5.0.0"
   ]
  },
  {
   "cell_type": "markdown",
   "metadata": {},
   "source": [
    "Here is a working example of the query string conversion to a scheme that is supported\n",
    "by rdflib:"
   ]
  },
  {
   "cell_type": "code",
   "execution_count": null,
   "metadata": {},
   "outputs": [],
   "source": [
    "import ipyradiant\n",
    "\n",
    "query_str = \"\"\"\n",
    "    SELECT DISTINCT ?s ?p ?o\n",
    "    WHERE\n",
    "      { \n",
    "        SERVICE <http://linkeddata.uriburner.com/sparql> \n",
    "          {\n",
    "            SELECT ?s ?p ?o\n",
    "            WHERE {?s ?p ?o}               \n",
    "          }\n",
    "      }\n",
    "\"\"\"\n",
    "\n",
    "query_str = ipyradiant.service_patch_rdflib(query_str)\n",
    "print(query_str)"
   ]
  },
  {
   "cell_type": "markdown",
   "metadata": {},
   "source": [
    "Once rdflib is updated, the warning can be removed by setting the logger_level to\n",
    "CRITICAL:"
   ]
  },
  {
   "cell_type": "code",
   "execution_count": null,
   "metadata": {},
   "outputs": [],
   "source": [
    "ipyradiant.set_logger_level(\"CRITICAL\")\n",
    "\n",
    "query_str = \"\"\"\n",
    "    SELECT DISTINCT ?s ?p ?o\n",
    "    WHERE\n",
    "      { \n",
    "        SERVICE <http://linkeddata.uriburner.com/sparql> \n",
    "          {\n",
    "            SELECT ?s ?p ?o\n",
    "            WHERE {?s ?p ?o}               \n",
    "          }\n",
    "      }\n",
    "\"\"\"\n",
    "\n",
    "query_str = ipyradiant.service_patch_rdflib(query_str)\n",
    "print(query_str)"
   ]
  }
 ],
 "metadata": {
  "kernelspec": {
   "display_name": "Python 3",
   "language": "python",
   "name": "python3"
  },
  "language_info": {
   "codemirror_mode": {
    "name": "ipython",
    "version": 3
   },
   "file_extension": ".py",
   "mimetype": "text/x-python",
   "name": "python",
   "nbconvert_exporter": "python",
   "pygments_lexer": "ipython3",
   "version": "3.7.8"
  }
 },
 "nbformat": 4,
 "nbformat_minor": 4
}
