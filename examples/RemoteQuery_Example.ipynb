{
 "cells": [
  {
   "cell_type": "markdown",
   "metadata": {},
   "source": [
    "# Remote Query Examples"
   ]
  },
  {
   "cell_type": "markdown",
   "metadata": {},
   "source": [
    "This notebook demonstrates remote querying capabilities using `SPARQLWrapper`"
   ]
  },
  {
   "cell_type": "markdown",
   "metadata": {},
   "source": [
    "SPARQLWrapper is a Python wrapper around a SPARQL service that gives the capability to\n",
    "remotely execute queries on SPARQL endpoints. It simply invokes a SPARQLWrapper class\n",
    "that requires an endpoint which you can pass a query to. The following are a few\n",
    "examples that demonstate the capabilities:"
   ]
  },
  {
   "cell_type": "markdown",
   "metadata": {},
   "source": [
    "### Query a single remote endpoint using `SPARQLWrapper`"
   ]
  },
  {
   "cell_type": "code",
   "execution_count": 1,
   "metadata": {},
   "outputs": [],
   "source": [
    "import pandas as pd\n",
    "from SPARQLWrapper import JSON, XML, SPARQLWrapper"
   ]
  },
  {
   "cell_type": "markdown",
   "metadata": {},
   "source": [
    "This example creates a sparql class from the graph location: http://dbpedia.org/sparql.\n",
    "In the setQuery method, you can pass a string that describes the query you want. Here,\n",
    "we perform a SELECT query that returns the labels for the resource Asturias from\n",
    "dbpedia:"
   ]
  },
  {
   "cell_type": "code",
   "execution_count": 3,
   "metadata": {},
   "outputs": [
    {
     "name": "stdout",
     "output_type": "stream",
     "text": [
      "Asturias\n",
      "منطقة أستورياس\n",
      "Asturien\n",
      "Asturias\n",
      "Asturies\n",
      "Asturie\n",
      "アストゥリアス州\n",
      "Asturië (regio)\n",
      "Asturia\n",
      "Astúrias\n",
      "Астурия\n",
      "阿斯图里亚斯\n"
     ]
    }
   ],
   "source": [
    "sparql = SPARQLWrapper(\"http://dbpedia.org/sparql\")\n",
    "sparql.setQuery(\n",
    "    \"\"\"\n",
    "    PREFIX rdfs: <http://www.w3.org/2000/01/rdf-schema#>\n",
    "    SELECT ?label\n",
    "    WHERE { <http://dbpedia.org/resource/Asturias> rdfs:label ?label }\n",
    "\"\"\"\n",
    ")\n",
    "\n",
    "sparql.setReturnFormat(JSON)\n",
    "results = sparql.query().convert()\n",
    "\n",
    "for result in results[\"results\"][\"bindings\"]:\n",
    "    print(result[\"label\"][\"value\"])"
   ]
  },
  {
   "cell_type": "markdown",
   "metadata": {},
   "source": [
    "The following example demonstates an ASK query:"
   ]
  },
  {
   "cell_type": "code",
   "execution_count": 4,
   "metadata": {},
   "outputs": [
    {
     "name": "stdout",
     "output_type": "stream",
     "text": [
      "<?xml version=\"1.0\" ?><sparql xmlns=\"http://www.w3.org/2005/sparql-results#\" xmlns:xsi=\"http://www.w3.org/2001/XMLSchema-instance\" xsi:schemaLocation=\"http://www.w3.org/2001/sw/DataAccess/rf1/result2.xsd\">\n",
      " <head/>\n",
      " <boolean>true</boolean>\n",
      "</sparql>\n"
     ]
    }
   ],
   "source": [
    "sparql = SPARQLWrapper(\"http://dbpedia.org/sparql\")\n",
    "sparql.setQuery(\n",
    "    \"\"\"\n",
    "    ASK WHERE {\n",
    "        <http://dbpedia.org/resource/Asturias> rdfs:label \"Asturias\"@es\n",
    "    }\n",
    "\"\"\"\n",
    ")\n",
    "sparql.setReturnFormat(XML)\n",
    "results = sparql.query().convert()\n",
    "print(results.toxml())"
   ]
  },
  {
   "cell_type": "markdown",
   "metadata": {},
   "source": [
    "### Nested Query Example"
   ]
  },
  {
   "cell_type": "markdown",
   "metadata": {},
   "source": [
    "A known issue with rdflib is that it does not support nested service calls in its query\n",
    "body. An example of this can be seen in the\n",
    "<a href=\"examples/FederatedQuery_Example.ipynb\">Federated Query Examples</a> notebook.\n",
    "We can utilize SPARQLWrapper to perform the same task. The following is a working\n",
    "example of combining an in-memory graph with a remote graph that is called using nested\n",
    "SERVICE clauses:"
   ]
  },
  {
   "cell_type": "code",
   "execution_count": 5,
   "metadata": {},
   "outputs": [
    {
     "data": {
      "text/plain": [
       "[(rdflib.term.URIRef('https://www.wikidata.org/wiki/Q28792126'),\n",
       "  rdflib.term.URIRef('https://www.wikidata.org/wiki/example'),\n",
       "  rdflib.term.Literal('Example'))]"
      ]
     },
     "execution_count": 5,
     "metadata": {},
     "output_type": "execute_result"
    }
   ],
   "source": [
    "from rdflib import Graph, Literal, URIRef, namespace\n",
    "\n",
    "WD = namespace.Namespace(\"https://www.wikidata.org/wiki/\")\n",
    "graph = Graph()\n",
    "graph.add((WD.Q28792126, WD.example, Literal(\"Example\")))\n",
    "list(graph)"
   ]
  },
  {
   "cell_type": "code",
   "execution_count": 6,
   "metadata": {},
   "outputs": [
    {
     "name": "stderr",
     "output_type": "stream",
     "text": [
      "/Users/rhythmsyed/Desktop/GTRI/ipyradiant/envs/dev/lib/python3.7/site-packages/SPARQLWrapper/Wrapper.py:1346: RuntimeWarning: unknown response content type 'text/html' returning raw response...\n",
      "  warnings.warn(\"unknown response content type '%s' returning raw response...\" %(ct), RuntimeWarning)\n"
     ]
    }
   ],
   "source": [
    "sparql = SPARQLWrapper(\"https://query.wikidata.org/\")\n",
    "sparql.setQuery(\n",
    "    \"\"\"\n",
    "PREFIX wd: <http://www.wikidata.org/entity/>\n",
    "PREFIX wdt: <http://www.wikidata.org/prop/direct/>\n",
    "PREFIX wikibase: <http://wikiba.se/ontology#>\n",
    "PREFIX bd: <http://www.bigdata.com/rdf#>\n",
    "\n",
    "SELECT ?p ?o\n",
    "WHERE {\n",
    "    wd:Q28792126 ?p ?o .\n",
    "\n",
    "    SELECT ?p ?o \n",
    "    WHERE \n",
    "    {\n",
    "      BIND(wikibase:label AS ?p)\n",
    "      wd:Q28792126 wdt:P31 wd:Q146\n",
    "      service wikibase:label { \n",
    "          bd:serviceParam wikibase:language \"en\" . \n",
    "      }\n",
    "    } \n",
    "    LIMIT 10\n",
    "    \n",
    "}\n",
    "\"\"\"\n",
    ")\n",
    "sparql.setReturnFormat(JSON)\n",
    "results = sparql.query().convert()"
   ]
  },
  {
   "cell_type": "code",
   "execution_count": 7,
   "metadata": {},
   "outputs": [
    {
     "data": {
      "text/plain": [
       "16754"
      ]
     },
     "execution_count": 7,
     "metadata": {},
     "output_type": "execute_result"
    }
   ],
   "source": [
    "len(results)"
   ]
  },
  {
   "cell_type": "markdown",
   "metadata": {},
   "source": [
    "In this example, we use SPARQLWrapper to query Wikidata via the Wikidata Query Service\n",
    "and organize the output response using pandas:"
   ]
  },
  {
   "cell_type": "code",
   "execution_count": 8,
   "metadata": {},
   "outputs": [],
   "source": [
    "sparql = SPARQLWrapper(\"https://query.wikidata.org/sparql\")\n",
    "sparql.setQuery(\n",
    "    \"\"\"\n",
    "SELECT ?item ?itemLabel\n",
    "WHERE\n",
    "{\n",
    "    ?item wdt:P31 wd:Q146 .\n",
    "    SERVICE wikibase:label { bd:serviceParam wikibase:language \"en\" }\n",
    "}\n",
    "\"\"\"\n",
    ")\n",
    "sparql.setReturnFormat(JSON)\n",
    "results = sparql.query().convert()"
   ]
  },
  {
   "cell_type": "code",
   "execution_count": 9,
   "metadata": {},
   "outputs": [
    {
     "name": "stderr",
     "output_type": "stream",
     "text": [
      "/Users/rhythmsyed/Desktop/GTRI/ipyradiant/envs/dev/lib/python3.7/site-packages/ipykernel_launcher.py:1: FutureWarning: pandas.io.json.json_normalize is deprecated, use pandas.json_normalize instead\n",
      "  \"\"\"Entry point for launching an IPython kernel.\n"
     ]
    },
    {
     "data": {
      "text/html": [
       "<div>\n",
       "<style scoped>\n",
       "    .dataframe tbody tr th:only-of-type {\n",
       "        vertical-align: middle;\n",
       "    }\n",
       "\n",
       "    .dataframe tbody tr th {\n",
       "        vertical-align: top;\n",
       "    }\n",
       "\n",
       "    .dataframe thead th {\n",
       "        text-align: right;\n",
       "    }\n",
       "</style>\n",
       "<table border=\"1\" class=\"dataframe\">\n",
       "  <thead>\n",
       "    <tr style=\"text-align: right;\">\n",
       "      <th></th>\n",
       "      <th>item.value</th>\n",
       "      <th>itemLabel.value</th>\n",
       "    </tr>\n",
       "  </thead>\n",
       "  <tbody>\n",
       "    <tr>\n",
       "      <th>0</th>\n",
       "      <td>http://www.wikidata.org/entity/Q28792126</td>\n",
       "      <td>Gli</td>\n",
       "    </tr>\n",
       "    <tr>\n",
       "      <th>1</th>\n",
       "      <td>http://www.wikidata.org/entity/Q30600575</td>\n",
       "      <td>Orlando</td>\n",
       "    </tr>\n",
       "    <tr>\n",
       "      <th>2</th>\n",
       "      <td>http://www.wikidata.org/entity/Q42442324</td>\n",
       "      <td>Kiisu Miisu</td>\n",
       "    </tr>\n",
       "    <tr>\n",
       "      <th>3</th>\n",
       "      <td>http://www.wikidata.org/entity/Q43260736</td>\n",
       "      <td>Paddles</td>\n",
       "    </tr>\n",
       "    <tr>\n",
       "      <th>4</th>\n",
       "      <td>http://www.wikidata.org/entity/Q48895080</td>\n",
       "      <td>Hamilton</td>\n",
       "    </tr>\n",
       "  </tbody>\n",
       "</table>\n",
       "</div>"
      ],
      "text/plain": [
       "                                 item.value itemLabel.value\n",
       "0  http://www.wikidata.org/entity/Q28792126             Gli\n",
       "1  http://www.wikidata.org/entity/Q30600575         Orlando\n",
       "2  http://www.wikidata.org/entity/Q42442324     Kiisu Miisu\n",
       "3  http://www.wikidata.org/entity/Q43260736         Paddles\n",
       "4  http://www.wikidata.org/entity/Q48895080        Hamilton"
      ]
     },
     "execution_count": 9,
     "metadata": {},
     "output_type": "execute_result"
    }
   ],
   "source": [
    "results_df = pd.io.json.json_normalize(results[\"results\"][\"bindings\"])\n",
    "results_df[[\"item.value\", \"itemLabel.value\"]].head()"
   ]
  },
  {
   "cell_type": "markdown",
   "metadata": {},
   "source": [
    "For more examples and usage of SPARQLWrapper, please visit the Github repo found here:\n",
    "https://github.com/RDFLib/sparqlwrapper"
   ]
  }
 ],
 "metadata": {
  "kernelspec": {
   "display_name": "Python 3",
   "language": "python",
   "name": "python3"
  },
  "language_info": {
   "codemirror_mode": {
    "name": "ipython",
    "version": 3
   },
   "file_extension": ".py",
   "mimetype": "text/x-python",
   "name": "python",
   "nbconvert_exporter": "python",
   "pygments_lexer": "ipython3",
   "version": "3.7.8"
  }
 },
 "nbformat": 4,
 "nbformat_minor": 4
}
