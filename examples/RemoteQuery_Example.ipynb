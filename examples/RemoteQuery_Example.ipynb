{
 "cells": [
  {
   "cell_type": "markdown",
   "metadata": {},
   "source": [
    "# Remote Query Examples"
   ]
  },
  {
   "cell_type": "markdown",
   "metadata": {},
   "source": [
    "This notebook demonstrates remote querying capabilities using `SPARQLWrapper`"
   ]
  },
  {
   "cell_type": "markdown",
   "metadata": {},
   "source": [
    "SPARQLWrapper is a Python wrapper around a SPARQL service that gives the capability to\n",
    "remotely execute queries on SPARQL endpoints. It simply invokes a SPARQLWrapper class\n",
    "that requires an endpoint which you can pass a query to. The following are a few\n",
    "examples that demonstate the capabilities:"
   ]
  },
  {
   "cell_type": "markdown",
   "metadata": {},
   "source": [
    "### Query a single remote endpoint using `SPARQLWrapper`"
   ]
  },
  {
   "cell_type": "code",
   "execution_count": null,
   "metadata": {},
   "outputs": [],
   "source": [
    "import pandas as pd\n",
    "from SPARQLWrapper import JSON, XML, SPARQLWrapper"
   ]
  },
  {
   "cell_type": "markdown",
   "metadata": {},
   "source": [
    "This example creates a sparql class from the graph location: http://dbpedia.org/sparql.\n",
    "In the setQuery method, you can pass a string that describes the query you want. Here,\n",
    "we perform a SELECT query that returns the labels for the resource Asturias from\n",
    "dbpedia:"
   ]
  },
  {
   "cell_type": "code",
   "execution_count": null,
   "metadata": {},
   "outputs": [],
   "source": [
    "sparql = SPARQLWrapper(\"http://dbpedia.org/sparql\")\n",
    "sparql.setQuery(\n",
    "    \"\"\"\n",
    "    PREFIX rdfs: <http://www.w3.org/2000/01/rdf-schema#>\n",
    "    SELECT ?label\n",
    "    WHERE { <http://dbpedia.org/resource/Asturias> rdfs:label ?label }\n",
    "\"\"\"\n",
    ")\n",
    "\n",
    "sparql.setReturnFormat(JSON)\n",
    "results = sparql.query().convert()\n",
    "\n",
    "for result in results[\"results\"][\"bindings\"]:\n",
    "    print(result[\"label\"][\"value\"])"
   ]
  },
  {
   "cell_type": "markdown",
   "metadata": {},
   "source": [
    "The following example demonstates an ASK query:"
   ]
  },
  {
   "cell_type": "code",
   "execution_count": null,
   "metadata": {},
   "outputs": [],
   "source": [
    "sparql = SPARQLWrapper(\"http://dbpedia.org/sparql\")\n",
    "sparql.setQuery(\n",
    "    \"\"\"\n",
    "    ASK WHERE {\n",
    "        <http://dbpedia.org/resource/Asturias> rdfs:label \"Asturias\"@es\n",
    "    }\n",
    "\"\"\"\n",
    ")\n",
    "sparql.setReturnFormat(XML)\n",
    "results = sparql.query().convert()\n",
    "print(results.toxml())"
   ]
  },
  {
   "cell_type": "markdown",
   "metadata": {},
   "source": [
    "### Nested Query Example"
   ]
  },
  {
   "cell_type": "markdown",
   "metadata": {},
   "source": [
    "A known issue with rdflib is that it does not support nested service calls in its query\n",
    "body. An example of this can be seen in the\n",
    "<a href=\"examples/FederatedQuery_Example.ipynb\">Federated Query Examples</a> notebook.\n",
    "We can utilize SPARQLWrapper to perform the same task. The following is a working\n",
    "example of combining an in-memory graph with a remote graph that is called using nested\n",
    "SERVICE clauses:"
   ]
  },
  {
   "cell_type": "code",
   "execution_count": null,
   "metadata": {},
   "outputs": [],
   "source": [
    "from rdflib import Graph, Literal, URIRef, namespace\n",
    "\n",
    "WD = namespace.Namespace(\"https://www.wikidata.org/wiki/\")\n",
    "graph = Graph()\n",
    "graph.add((WD.Q28792126, WD.example, Literal(\"Example\")))\n",
    "list(graph)"
   ]
  },
  {
   "cell_type": "code",
   "execution_count": null,
   "metadata": {},
   "outputs": [],
   "source": [
    "sparql = SPARQLWrapper(\"https://query.wikidata.org/\")\n",
    "sparql.setQuery(\n",
    "    \"\"\"\n",
    "PREFIX wd: <http://www.wikidata.org/entity/>\n",
    "PREFIX wdt: <http://www.wikidata.org/prop/direct/>\n",
    "PREFIX wikibase: <http://wikiba.se/ontology#>\n",
    "PREFIX bd: <http://www.bigdata.com/rdf#>\n",
    "\n",
    "SELECT ?p ?o\n",
    "WHERE {\n",
    "    wd:Q28792126 ?p ?o .\n",
    "\n",
    "    SELECT ?p ?o \n",
    "    WHERE \n",
    "    {\n",
    "      BIND(wikibase:label AS ?p)\n",
    "      wd:Q28792126 wdt:P31 wd:Q146\n",
    "      service wikibase:label { \n",
    "          bd:serviceParam wikibase:language \"en\" . \n",
    "      }\n",
    "    } \n",
    "    LIMIT 10\n",
    "    \n",
    "}\n",
    "\"\"\"\n",
    ")\n",
    "sparql.setReturnFormat(JSON)\n",
    "results = sparql.query().convert()"
   ]
  },
  {
   "cell_type": "code",
   "execution_count": null,
   "metadata": {},
   "outputs": [],
   "source": [
    "len(results)"
   ]
  },
  {
   "cell_type": "markdown",
   "metadata": {},
   "source": [
    "In this example, we use SPARQLWrapper to query Wikidata via the Wikidata Query Service\n",
    "and organize the output response using pandas:"
   ]
  },
  {
   "cell_type": "code",
   "execution_count": null,
   "metadata": {},
   "outputs": [],
   "source": [
    "sparql = SPARQLWrapper(\"https://query.wikidata.org/sparql\")\n",
    "sparql.setQuery(\n",
    "    \"\"\"\n",
    "SELECT ?item ?itemLabel\n",
    "WHERE\n",
    "{\n",
    "    ?item wdt:P31 wd:Q146 .\n",
    "    SERVICE wikibase:label { bd:serviceParam wikibase:language \"en\" }\n",
    "}\n",
    "\"\"\"\n",
    ")\n",
    "sparql.setReturnFormat(JSON)\n",
    "results = sparql.query().convert()"
   ]
  },
  {
   "cell_type": "code",
   "execution_count": null,
   "metadata": {},
   "outputs": [],
   "source": [
    "results_df = pd.io.json.json_normalize(results[\"results\"][\"bindings\"])\n",
    "results_df[[\"item.value\", \"itemLabel.value\"]].head()"
   ]
  },
  {
   "cell_type": "markdown",
   "metadata": {},
   "source": [
    "For more examples and usage of SPARQLWrapper, please visit the Github repo found here:\n",
    "https://github.com/RDFLib/sparqlwrapper"
   ]
  }
 ],
 "metadata": {
  "kernelspec": {
   "display_name": "Python 3",
   "language": "python",
   "name": "python3"
  },
  "language_info": {
   "codemirror_mode": {
    "name": "ipython",
    "version": 3
   },
   "file_extension": ".py",
   "mimetype": "text/x-python",
   "name": "python",
   "nbconvert_exporter": "python",
   "pygments_lexer": "ipython3",
   "version": "3.7.8"
  }
 },
 "nbformat": 4,
 "nbformat_minor": 4
}
