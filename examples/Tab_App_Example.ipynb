{
 "cells": [
  {
   "cell_type": "markdown",
   "metadata": {},
   "source": [
    "# Building Graph-based Applications\n",
    "\n",
    "This notebook shows a way to use `ipyradiant` widgets to build a simple tab-based\n",
    "application."
   ]
  },
  {
   "cell_type": "code",
   "execution_count": null,
   "metadata": {},
   "outputs": [],
   "source": [
    "import traitlets as T\n",
    "\n",
    "import ipywidgets as W\n",
    "from ipyradiant import CytoscapeVisualizer, FileManager, PathLoader, QueryWidget\n",
    "from rdflib import BNode, Graph"
   ]
  },
  {
   "cell_type": "markdown",
   "metadata": {},
   "source": [
    "## The App Class"
   ]
  },
  {
   "cell_type": "markdown",
   "metadata": {},
   "source": [
    "This class-based widget captures both the overall layout, as well its individual\n",
    "components. Values are\n",
    "[linked](https://ipywidgets.readthedocs.io/en/latest/examples/Widget%20Events.html#Linking-Widgets)\n",
    "to create new behaviors."
   ]
  },
  {
   "cell_type": "code",
   "execution_count": null,
   "metadata": {},
   "outputs": [],
   "source": [
    "class RadiantTabs(W.Tab):\n",
    "    graph = T.Instance(Graph, allow_none=True)\n",
    "    load_widget = T.Instance(FileManager)\n",
    "    query_widget = T.Instance(QueryWidget)\n",
    "    vis_widget = T.Instance(CytoscapeVisualizer)\n",
    "    log = W.Output()\n",
    "\n",
    "    def __init__(self, graph: Graph = None, *args, **kwargs):\n",
    "        if \"layout\" not in kwargs:\n",
    "            kwargs[\"layout\"] = dict(min_height=\"800px\")\n",
    "        super().__init__(*args, **kwargs)\n",
    "        T.link((self.load_widget, \"graph\"), (self, \"graph\"))\n",
    "        T.link((self, \"graph\"), (self.query_widget, \"graph\"))\n",
    "        T.link((self, \"graph\"), (self.vis_widget, \"graph\"))\n",
    "\n",
    "        if graph:\n",
    "            self.graph = graph\n",
    "            self.graph_id = graph.identifier\n",
    "\n",
    "        self.children = [self.load_widget, self.query_widget, self.vis_widget]\n",
    "        self.set_title(0, \"RDF Loader\")\n",
    "        self.set_title(1, \"Query Panel\")\n",
    "        self.set_title(2, \"Vis Panel\")\n",
    "\n",
    "    @T.default(\"graph\")\n",
    "    def make_default_graph(self):\n",
    "        return Graph()\n",
    "\n",
    "    @T.default(\"load_widget\")\n",
    "    def make_default_load_widget(self):\n",
    "        return FileManager(loader=PathLoader(path=\"data\"))\n",
    "\n",
    "    @T.default(\"query_widget\")\n",
    "    def make_default_query_widget(self):\n",
    "        return QueryWidget()\n",
    "\n",
    "    @T.default(\"vis_widget\")\n",
    "    def make_vis_widget(self):\n",
    "        return CytoscapeVisualizer()"
   ]
  },
  {
   "cell_type": "markdown",
   "metadata": {},
   "source": [
    "## Showing the App"
   ]
  },
  {
   "cell_type": "code",
   "execution_count": null,
   "metadata": {},
   "outputs": [],
   "source": [
    "tabs = RadiantTabs()\n",
    "W.VBox([tabs, tabs.query_widget.log])"
   ]
  }
 ],
 "metadata": {
  "kernelspec": {
   "display_name": "Python 3",
   "language": "python",
   "name": "python3"
  },
  "language_info": {
   "codemirror_mode": {
    "name": "ipython",
    "version": 3
   },
   "file_extension": ".py",
   "mimetype": "text/x-python",
   "name": "python",
   "nbconvert_exporter": "python",
   "pygments_lexer": "ipython3",
   "version": "3.7.8"
  }
 },
 "nbformat": 4,
 "nbformat_minor": 4
}
