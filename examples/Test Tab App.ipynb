{
 "cells": [
  {
   "cell_type": "markdown",
   "metadata": {},
   "source": [
    "# A Test for the Tab App\n",
    "\n",
    "This uses [importnb](https://pypi.org/project/importnb) to load the\n",
    "[Tab App Example](./Tab%20App%20Example.ipynb) for interative and automated testing."
   ]
  },
  {
   "cell_type": "code",
   "execution_count": null,
   "metadata": {},
   "outputs": [],
   "source": [
    "import json\n",
    "import os\n",
    "import time\n",
    "from pathlib import Path\n",
    "\n",
    "import importnb\n",
    "from requests_cache import CachedSession\n",
    "\n",
    "with importnb.Notebook():\n",
    "    try:\n",
    "        from Tab_App_Example import tabs, W\n",
    "    except ImportError:\n",
    "        from .Tab_App_Example import tabs, W"
   ]
  },
  {
   "cell_type": "markdown",
   "metadata": {},
   "source": [
    "This notebook is used as part of the `ipyradiant` test suite, where `IPYRADIANT_TESTING`\n",
    "will be set, which will trigger the automted section below."
   ]
  },
  {
   "cell_type": "code",
   "execution_count": null,
   "metadata": {},
   "outputs": [],
   "source": [
    "IS_TESTING = json.loads(os.environ.get(\"IPYRADIANT_TESTING\", \"false\"))\n",
    "IS_TESTING"
   ]
  },
  {
   "cell_type": "markdown",
   "metadata": {},
   "source": [
    "Example data is loaded from [schema.org](https://schema.org/docs/developers.html)."
   ]
  },
  {
   "cell_type": "code",
   "execution_count": null,
   "metadata": {},
   "outputs": [],
   "source": [
    "TEST_URL = \"https://raw.githubusercontent.com/schemaorg/schemaorg/v9.0-release/data/releases/8.0/schema.{fmt}\""
   ]
  },
  {
   "cell_type": "markdown",
   "metadata": {},
   "source": [
    "Tests are implemented as buttons you can click."
   ]
  },
  {
   "cell_type": "code",
   "execution_count": null,
   "metadata": {},
   "outputs": [],
   "source": [
    "tests = [\n",
    "    W.Button(description=f\"{fmt}\") for fmt in [\"ttl\", \"nt\", \"jsonld\", \"rdf\", \"rdfa\"]\n",
    "]\n",
    "test_log = W.Output()\n",
    "with test_log:\n",
    "    print(\"click a button to start a test\")\n",
    "tabs.layout.width = \"100%\""
   ]
  },
  {
   "cell_type": "code",
   "execution_count": null,
   "metadata": {},
   "outputs": [],
   "source": [
    "timings = {}\n",
    "\n",
    "\n",
    "def timestamp(key, msg):\n",
    "    if key not in timings:\n",
    "        timings[key] = []\n",
    "    timings[key] += [time.time()]\n",
    "    delta = 0 if len(timings[key]) == 1 else timings[key][-1] - timings[key][-2]\n",
    "    print(f\"[{key}]\", f\"+{int(delta)}\", msg)"
   ]
  },
  {
   "cell_type": "code",
   "execution_count": null,
   "metadata": {},
   "outputs": [],
   "source": [
    "def _run_test(btn):\n",
    "    test_log.clear_output()\n",
    "    session = CachedSession(\".cache\")\n",
    "    fmt = btn.description\n",
    "    errors = []\n",
    "    try:\n",
    "        with test_log:\n",
    "            timestamp(fmt, \"starting...\")\n",
    "            tabs.selected_index = 0\n",
    "            url = TEST_URL.format(fmt=fmt)\n",
    "            timestamp(fmt, f\"fetching {url}...\")\n",
    "            response = session.get(url)\n",
    "            timestamp(fmt, f\"... response: {response.status_code}\")\n",
    "            assert response.status_code == 200\n",
    "            timestamp(fmt, f\"... {len(response.text)} bytes\")\n",
    "            timestamp(fmt, f\"loading...\")\n",
    "            tabs.load_widget.load_box.file_upload_value = {\n",
    "                Path(url).name: {\n",
    "                    \"metadata\": {\"length\": len(response.text)},\n",
    "                    \"content\": response.text,\n",
    "                }\n",
    "            }\n",
    "            timestamp(fmt, f\"... {len(tabs.load_widget.graph)} triples loaded\")\n",
    "            assert len(tabs.load_widget.graph)\n",
    "            tabs.selected_index = 1\n",
    "            timestamp(fmt, f\"[{fmt}] querying...\")\n",
    "            tabs.query_widget.run_button.click()\n",
    "            tabs.selected_index = 2\n",
    "            timestamp(fmt, \"OK!\")\n",
    "    except Exception as err:\n",
    "        errors += [errors]\n",
    "        timestamp(fmt, \"ERROR\")\n",
    "        timestampe(fmt, err)\n",
    "\n",
    "\n",
    "[d.on_click(_run_test) for d in tests]"
   ]
  },
  {
   "cell_type": "markdown",
   "metadata": {},
   "source": [
    "## Show the Test Application"
   ]
  },
  {
   "cell_type": "code",
   "execution_count": null,
   "metadata": {},
   "outputs": [],
   "source": [
    "W.VBox([tabs, W.HBox([W.Label(\"Start Test\"), *tests]), test_log])"
   ]
  },
  {
   "cell_type": "markdown",
   "metadata": {},
   "source": [
    "## (Maybe) Run the test automatically"
   ]
  },
  {
   "cell_type": "code",
   "execution_count": null,
   "metadata": {},
   "outputs": [],
   "source": [
    "if IS_TESTING:\n",
    "    for test in tests:\n",
    "        test.click()\n",
    "        Path(f\"Test Tab App.{test.description}.log\").write_text(\n",
    "            json.dumps(test_log.outputs, indent=2, sort_keys=True)\n",
    "        )"
   ]
  }
 ],
 "metadata": {
  "kernelspec": {
   "display_name": "Python 3",
   "language": "python",
   "name": "python3"
  },
  "language_info": {
   "codemirror_mode": {
    "name": "ipython",
    "version": 3
   },
   "file_extension": ".py",
   "mimetype": "text/x-python",
   "name": "python",
   "nbconvert_exporter": "python",
   "pygments_lexer": "ipython3",
   "version": "3.7.8"
  }
 },
 "nbformat": 4,
 "nbformat_minor": 4
}
