{
 "cells": [
  {
   "cell_type": "markdown",
   "metadata": {},
   "source": [
    "# A Test for the Cytoscape Example"
   ]
  },
  {
   "cell_type": "code",
   "execution_count": 1,
   "metadata": {},
   "outputs": [],
   "source": [
    "import json\n",
    "import os\n",
    "import time\n",
    "from pathlib import Path\n",
    "\n",
    "import importnb\n",
    "from rdflib import Graph\n",
    "from requests_cache import CachedSession\n",
    "\n",
    "with importnb.Notebook():\n",
    "    try:\n",
    "        from Cytoscape_Example import cyto_ex, W\n",
    "    except ImportError:\n",
    "        from .Cytoscape_Example import cyto_ex, W"
   ]
  },
  {
   "cell_type": "markdown",
   "metadata": {},
   "source": [
    "This notebook is used as part of the `ipyradiant` test suite, where `IPYRADIANT_TESTING`\n",
    "will be set, which will trigger the automted section below."
   ]
  },
  {
   "cell_type": "code",
   "execution_count": 2,
   "metadata": {},
   "outputs": [
    {
     "data": {
      "text/plain": [
       "False"
      ]
     },
     "execution_count": 2,
     "metadata": {},
     "output_type": "execute_result"
    }
   ],
   "source": [
    "IS_TESTING = json.loads(os.environ.get(\"IPYRADIANT_TESTING\", \"false\"))\n",
    "IS_TESTING"
   ]
  },
  {
   "cell_type": "markdown",
   "metadata": {},
   "source": [
    "Example data is loaded from [schema.org](https://schema.org/docs/developers.html)."
   ]
  },
  {
   "cell_type": "code",
   "execution_count": 4,
   "metadata": {},
   "outputs": [],
   "source": [
    "TEST_URL = \"https://raw.githubusercontent.com/schemaorg/schemaorg/v9.0-release/data/releases/8.0/schema.{fmt}\""
   ]
  },
  {
   "cell_type": "markdown",
   "metadata": {},
   "source": [
    "Tests are implemented as buttons you click."
   ]
  },
  {
   "cell_type": "code",
   "execution_count": 5,
   "metadata": {},
   "outputs": [],
   "source": [
    "tests = [\n",
    "    W.Button(description=f\"{fmt}\") for fmt in [\"ttl\", \"nt\", \"rdf\"]\n",
    "]\n",
    "cyto_ex.layout.width = \"100%\""
   ]
  },
  {
   "cell_type": "code",
   "execution_count": 6,
   "metadata": {},
   "outputs": [],
   "source": [
    "timings = {}\n",
    "\n",
    "\n",
    "def timestamp(key, msg):\n",
    "    if key not in timings:\n",
    "        timings[key] = []\n",
    "    timings[key] += [time.time()]\n",
    "    delta = 0 if len(timings[key]) == 1 else timings[key][-1] - timings[key][-2]\n",
    "    print(f\"[{key}]\", f\"+{int(delta)}\", msg)"
   ]
  },
  {
   "cell_type": "code",
   "execution_count": 7,
   "metadata": {},
   "outputs": [
    {
     "data": {
      "text/plain": [
       "[None, None, None]"
      ]
     },
     "execution_count": 7,
     "metadata": {},
     "output_type": "execute_result"
    }
   ],
   "source": [
    "def _run_test(btn):\n",
    "    session = CachedSession(\".cache\")\n",
    "    fmt = btn.description\n",
    "\n",
    "    try:\n",
    "        timestamp(fmt, \"starting...\")\n",
    "        cyto_ex.loader.graph = Graph()\n",
    "        timestamp(fmt, \"cleaned...\")\n",
    "        assert not cyto_ex.cyto_widget.graph.edges\n",
    "        assert not cyto_ex.cyto_widget.graph.nodes\n",
    "        url = TEST_URL.format(fmt=fmt)\n",
    "        timestamp(fmt, f\"fetching {url}...\")\n",
    "        response = session.get(url)\n",
    "        timestamp(fmt, f\"... response: {response.status_code}\")\n",
    "        assert response.status_code == 200\n",
    "        timestamp(fmt, f\"... {len(response.text)} bytes\")\n",
    "        timestamp(fmt, f\"loading...\")\n",
    "        cyto_ex.loader.load_box.file_upload_value = {\n",
    "            Path(url).name: {\n",
    "                \"metadata\": {\"length\": len(response.text)},\n",
    "                \"content\": response.text,\n",
    "            }\n",
    "        }\n",
    "        timestamp(fmt, f\"... {len(cyto_ex.loader.graph)} triples loaded\")\n",
    "        assert len(cyto_ex.loader.graph)\n",
    "        assert cyto_ex.cyto_widget.graph.edges\n",
    "        assert cyto_ex.cyto_widget.graph.nodes\n",
    "        timestamp(fmt, \"OK!\")\n",
    "    except Exception as err:\n",
    "        timestamp(fmt, \"ERROR\")\n",
    "        timestamp(fmt, err)\n",
    "        raise Exception(\"fmt failed\") from err\n",
    "\n",
    "\n",
    "[d.on_click(_run_test) for d in tests]"
   ]
  },
  {
   "cell_type": "markdown",
   "metadata": {},
   "source": [
    "## Show the Test Application"
   ]
  },
  {
   "cell_type": "code",
   "execution_count": 9,
   "metadata": {},
   "outputs": [
    {
     "data": {
      "application/vnd.jupyter.widget-view+json": {
       "model_id": "e7d311aaa93a4c7eb9290ce1e04ac617",
       "version_major": 2,
       "version_minor": 0
      },
      "text/plain": [
       "VBox(children=(CytoExample(children=(LoadWidget(children=(LoadBox(children=(Label(value='Click to load file:')…"
      ]
     },
     "metadata": {},
     "output_type": "display_data"
    }
   ],
   "source": [
    "W.VBox([cyto_ex, W.HBox([W.Label(\"Start Test\"), *tests])])"
   ]
  },
  {
   "cell_type": "markdown",
   "metadata": {},
   "source": [
    "# Run Test Automatically"
   ]
  },
  {
   "cell_type": "code",
   "execution_count": 11,
   "metadata": {},
   "outputs": [],
   "source": [
    "if IS_TESTING:\n",
    "    for test in tests:\n",
    "        test.click()"
   ]
  },
  {
   "cell_type": "code",
   "execution_count": null,
   "metadata": {},
   "outputs": [],
   "source": []
  }
 ],
 "metadata": {
  "kernelspec": {
   "display_name": "Python 3",
   "language": "python",
   "name": "python3"
  },
  "language_info": {
   "codemirror_mode": {
    "name": "ipython",
    "version": 3
   },
   "file_extension": ".py",
   "mimetype": "text/x-python",
   "name": "python",
   "nbconvert_exporter": "python",
   "pygments_lexer": "ipython3",
   "version": "3.7.8"
  }
 },
 "nbformat": 4,
 "nbformat_minor": 4
}
