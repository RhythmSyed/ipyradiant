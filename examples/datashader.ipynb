{
 "cells": [
  {
   "cell_type": "code",
   "execution_count": 1,
   "metadata": {},
   "outputs": [],
   "source": [
    "import traitlets as T\n",
    "import ipywidgets as W\n",
    "from ipyradiant import LoadWidget, DatashaderVisualization\n",
    "from rdflib import BNode, Graph"
   ]
  },
  {
   "cell_type": "code",
   "execution_count": 2,
   "metadata": {},
   "outputs": [],
   "source": [
    "class DataVisObject(W.Tab):\n",
    "    graph = T.Instance(Graph, allow_none=True)\n",
    "    load_widget = T.Instance(LoadWidget)\n",
    "    vis_widget = T.Instance(DatashaderVisualization)\n",
    "    \n",
    "    \n",
    "    def __init__(self, graph: Graph = None, *args, **kwargs):\n",
    "        super().__init__(*args, **kwargs)\n",
    "        T.link((self.load_widget, \"graph\"), (self, \"graph\"))\n",
    "        T.link((self, \"graph\"), (self.vis_widget, \"graph\"))\n",
    "        \n",
    "        if graph:\n",
    "            self.graph = graph\n",
    "        \n",
    "        self.children = [self.load_widget, self.vis_widget]\n",
    "        self.set_title(0, \"RDF Loader\")\n",
    "        self.set_title(1, \"Vis Panel\")\n",
    "        \n",
    "    @T.default(\"graph\")\n",
    "    def make_default_graph(self):\n",
    "        return Graph()\n",
    "    \n",
    "    \n",
    "    @T.default(\"load_widget\")\n",
    "    def make_default_load_widget(self):\n",
    "        load_widget = LoadWidget()\n",
    "        return load_widget\n",
    "    \n",
    "    @T.default(\"vis_widget\")\n",
    "    def make_vis_widget(self):\n",
    "        vis_widget = DatashaderVisualization(rdf_graph=self.graph,)\n",
    "        return vis_widget   \n",
    "    "
   ]
  },
  {
   "cell_type": "code",
   "execution_count": 3,
   "metadata": {},
   "outputs": [
    {
     "data": {
      "application/vnd.jupyter.widget-view+json": {
       "model_id": "20c5382598084ab9becefc7898f3385d",
       "version_major": 2,
       "version_minor": 0
      },
      "text/plain": [
       "DataVisObject(children=(LoadWidget(children=(LoadBox(children=(Label(value='Click to load file:'), FileUpload(…"
      ]
     },
     "metadata": {},
     "output_type": "display_data"
    }
   ],
   "source": [
    "DataVisObject()"
   ]
  },
  {
   "cell_type": "code",
   "execution_count": null,
   "metadata": {},
   "outputs": [],
   "source": []
  }
 ],
 "metadata": {
  "kernelspec": {
   "display_name": "Python 3",
   "language": "python",
   "name": "python3"
  },
  "language_info": {
   "codemirror_mode": {
    "name": "ipython",
    "version": 3
   },
   "file_extension": ".py",
   "mimetype": "text/x-python",
   "name": "python",
   "nbconvert_exporter": "python",
   "pygments_lexer": "ipython3",
   "version": "3.7.8"
  }
 },
 "nbformat": 4,
 "nbformat_minor": 4
}
