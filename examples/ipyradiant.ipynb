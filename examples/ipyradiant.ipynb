{
 "cells": [
  {
   "cell_type": "code",
   "execution_count": 1,
   "metadata": {},
   "outputs": [],
   "source": [
    "# This won't work until we have a package\n",
    "import traitlets as T\n",
    "\n",
    "import ipywidgets as W\n",
    "from ipyradiant import LoadWidget, QueryWidget, RDFVisualization\n",
    "from rdflib import BNode, Graph"
   ]
  },
  {
   "cell_type": "code",
   "execution_count": 2,
   "metadata": {},
   "outputs": [],
   "source": [
    "class RadiantObject(W.Tab):\n",
    "    graph = T.Instance(Graph)  # allow_none=True\n",
    "    graph_id = T.Instance(BNode)\n",
    "    load_widget = T.Instance(LoadWidget)\n",
    "    query_widget = T.Instance(QueryWidget)\n",
    "    vis_widget = T.Instance(RDFVisualization)\n",
    "    selected_view_mode = T.Unicode()\n",
    "    output = W.Output()\n",
    "\n",
    "    def __init__(self, graph: Graph = None, *args, **kwargs):\n",
    "        super().__init__(*args, **kwargs)\n",
    "        T.link((self.load_widget, \"graph\"), (self, \"graph\"))\n",
    "        T.link((self, \"graph\"), (self.query_widget, \"graph\"))\n",
    "        T.link((self, \"selected_view_mode\"),(self.vis_widget, \"selected_view_mode\"))\n",
    "\n",
    "        if graph:\n",
    "            self.graph = graph\n",
    "            self.graph_id = graph.identifier\n",
    "\n",
    "        self.children = [self.load_widget, self.query_widget, self.vis_widget]\n",
    "        self.set_title(0, \"RDF Loader\")\n",
    "        self.set_title(1, \"Query Panel\")\n",
    "        self.set_title(2, \"Vis Panel\")\n",
    "\n",
    "    \n",
    "    @T.default(\"selected_view_mode\")\n",
    "    def make_selected_view_mode(self):\n",
    "        return \"full graph\"\n",
    "    \n",
    "    @T.default(\"graph\")\n",
    "    def make_default_graph(self):\n",
    "        return Graph()\n",
    "\n",
    "    @T.default(\"graph_id\")\n",
    "    def make_default_graph_id(self):\n",
    "        return self.graph.identifier\n",
    "\n",
    "    @T.default(\"load_widget\")\n",
    "    def make_default_load_widget(self):\n",
    "        load_widget = LoadWidget()\n",
    "        return load_widget\n",
    "\n",
    "    @T.default(\"query_widget\")\n",
    "    def make_default_query_widget(self):\n",
    "        query_widget = QueryWidget(self.graph)\n",
    "        return query_widget\n",
    "    \n",
    "    @T.default(\"vis_widget\")\n",
    "    def make_vis_widget(self):\n",
    "        vis_widget = RDFVisualization(rdf_graph=self.graph)\n",
    "        return vis_widget\n",
    "    \n",
    "     \n",
    "    @T.observe(\"selected_view_mode\",\"graph\")\n",
    "    @output.capture()   \n",
    "    def update_vis_panel(self,*_):\n",
    "        print('change occured')\n",
    "        print(self.selected_view_mode)\n",
    "        self.vis_widget = self.make_vis_widget()\n",
    "        self.children =[self.load_widget, self.query_widget, self.vis_widget]\n",
    "\n",
    "\n",
    "\n",
    "\n"
   ]
  },
  {
   "cell_type": "code",
   "execution_count": 5,
   "metadata": {},
   "outputs": [],
   "source": [
    "# Initial example of combining the widgets\n",
    "ro = RadiantObject()"
   ]
  },
  {
   "cell_type": "code",
   "execution_count": 8,
   "metadata": {},
   "outputs": [
    {
     "data": {
      "application/vnd.jupyter.widget-view+json": {
       "model_id": "e2f2a0de5e5a496095c401f5d95712b3",
       "version_major": 2,
       "version_minor": 0
      },
      "text/plain": [
       "RadiantObject(children=(LoadWidget(children=(LoadBox(children=(Label(value='Click to load graph file (.ttl):')…"
      ]
     },
     "metadata": {},
     "output_type": "display_data"
    }
   ],
   "source": [
    "ro"
   ]
  },
  {
   "cell_type": "code",
   "execution_count": 9,
   "metadata": {},
   "outputs": [
    {
     "data": {
      "application/vnd.jupyter.widget-view+json": {
       "model_id": "7c5e92d689f34bfc90e77ab0fec75868",
       "version_major": 2,
       "version_minor": 0
      },
      "text/plain": [
       "CytoscapeWidget(cytoscape_layout={'name': 'cola'}, cytoscape_style=[{'selector': 'node', 'css': {'background-c…"
      ]
     },
     "metadata": {},
     "output_type": "display_data"
    }
   ],
   "source": [
    "ro.vis_widget.cyto_widget"
   ]
  },
  {
   "cell_type": "code",
   "execution_count": 4,
   "metadata": {},
   "outputs": [
    {
     "data": {
      "application/vnd.jupyter.widget-view+json": {
       "model_id": "1bb82b5efddc4b3a9ddcfcb2bf947c8e",
       "version_major": 2,
       "version_minor": 0
      },
      "text/plain": [
       "Output(outputs=({'name': 'stdout', 'text': 'change occured\\nfull graph\\n', 'output_type': 'stream'},))"
      ]
     },
     "metadata": {},
     "output_type": "display_data"
    }
   ],
   "source": [
    "RadiantObject.output"
   ]
  },
  {
   "cell_type": "code",
   "execution_count": null,
   "metadata": {},
   "outputs": [],
   "source": []
  }
 ],
 "metadata": {
  "kernelspec": {
   "display_name": "Python 3",
   "language": "python",
   "name": "python3"
  },
  "language_info": {
   "codemirror_mode": {
    "name": "ipython",
    "version": 3
   },
   "file_extension": ".py",
   "mimetype": "text/x-python",
   "name": "python",
   "nbconvert_exporter": "python",
   "pygments_lexer": "ipython3",
   "version": "3.7.6"
  }
 },
 "nbformat": 4,
 "nbformat_minor": 4
}
