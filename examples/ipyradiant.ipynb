{
 "cells": [
  {
   "cell_type": "code",
   "execution_count": null,
   "metadata": {},
   "outputs": [],
   "source": [
    "# This won't work until we have a package\n",
    "import ipywidgets as W\n",
    "import traitlets as T\n",
    "from ipyradiant import LoadWidget, QueryWidget\n",
    "from rdflib import Graph, BNode"
   ]
  },
  {
   "cell_type": "code",
   "execution_count": null,
   "metadata": {},
   "outputs": [],
   "source": [
    "class RadiantObject(W.Tab):\n",
    "    graph = T.Instance(Graph)  # allow_none=True\n",
    "    graph_id = T.Instance(BNode)\n",
    "    load_widget = T.Instance(LoadWidget)\n",
    "    query_widget = T.Instance(QueryWidget)\n",
    "    \n",
    "    def __init__(self, graph: Graph = None, *args, **kwargs):\n",
    "        super().__init__(*args, **kwargs)\n",
    "        T.link((self.load_widget, \"graph\"), (self, \"graph\"))\n",
    "        T.link((self, \"graph\"), (self.query_widget, \"graph\"))\n",
    "        \n",
    "        if graph:\n",
    "            self.graph = graph\n",
    "            self.graph_id = graph.identifier\n",
    "            \n",
    "        self.children = [self.load_widget, self.query_widget]\n",
    "        self.set_title(0, 'RDF Loader')\n",
    "        self.set_title(1, 'Query Panel')\n",
    "        \n",
    "        \n",
    "    @T.default(\"graph\")\n",
    "    def make_default_graph(self):\n",
    "        return Graph()\n",
    "    \n",
    "    @T.default(\"graph_id\")\n",
    "    def make_default_graph_id(self):\n",
    "        return self.graph.identifier\n",
    "        \n",
    "    @T.default(\"load_widget\")\n",
    "    def make_default_load_widget(self):\n",
    "        load_widget = LoadWidget()\n",
    "        return load_widget\n",
    "        \n",
    "    @T.default(\"query_widget\")\n",
    "    def make_default_query_widget(self):\n",
    "        query_widget = QueryWidget(\n",
    "            self.graph\n",
    "        )\n",
    "        return query_widget"
   ]
  },
  {
   "cell_type": "code",
   "execution_count": null,
   "metadata": {},
   "outputs": [],
   "source": [
    "# Initial example of combining the widgets\n",
    "RadiantObject()"
   ]
  },
  {
   "cell_type": "code",
   "execution_count": null,
   "metadata": {},
   "outputs": [],
   "source": []
  }
 ],
 "metadata": {
  "kernelspec": {
   "display_name": "Python 3",
   "language": "python",
   "name": "python3"
  },
  "language_info": {
   "codemirror_mode": {
    "name": "ipython",
    "version": 3
   },
   "file_extension": ".py",
   "mimetype": "text/x-python",
   "name": "python",
   "nbconvert_exporter": "python",
   "pygments_lexer": "ipython3",
   "version": "3.7.6"
  }
 },
 "nbformat": 4,
 "nbformat_minor": 4
}
