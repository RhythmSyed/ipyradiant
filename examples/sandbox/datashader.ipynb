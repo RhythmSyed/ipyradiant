{
 "cells": [
  {
   "cell_type": "markdown",
   "metadata": {},
   "source": [
    "# Basic Datashader Example"
   ]
  },
  {
   "cell_type": "code",
   "execution_count": null,
   "metadata": {},
   "outputs": [],
   "source": [
    "import traitlets as T\n",
    "\n",
    "import ipywidgets as W\n",
    "from ipyradiant import (\n",
    "    CytoscapeVisualization,\n",
    "    DatashaderVis,\n",
    "    LoadWidget,\n",
    "    VisBase,\n",
    "    VisSelector,\n",
    ")\n",
    "from rdflib import Graph"
   ]
  },
  {
   "cell_type": "code",
   "execution_count": null,
   "metadata": {},
   "outputs": [],
   "source": [
    "class DatashaderExample(W.VBox):\n",
    "    ds = T.Instance(DatashaderVis)\n",
    "    vs = T.Instance(VisSelector)\n",
    "    graph = T.Instance(Graph)\n",
    "    # cv = T.Instance(CytoscapeVisualization)\n",
    "\n",
    "    def __init__(self, *args, **kwargs):\n",
    "        super().__init__(*args, **kwargs)\n",
    "        T.link((self.vs, \"value\"), (self.ds, \"layout_choice\"))\n",
    "        self.children = [self.vs, self.ds]\n",
    "\n",
    "    @T.default(\"graph\")\n",
    "    def _make_default_graph(self):\n",
    "        rdf_graph = Graph()\n",
    "        full_graph = rdf_graph.parse(\n",
    "            \"https://raw.githubusercontent.com/schemaorg/schemaorg/v9.0-release/data/releases/8.0/schema.nt\",\n",
    "            format=\"nt\",\n",
    "        )\n",
    "        return full_graph\n",
    "\n",
    "    @T.default(\"ds\")\n",
    "    def _make_default_ds(self):\n",
    "        return DatashaderVis(graph=self.graph, tooltip=\"edges\")\n",
    "\n",
    "    @T.default(\"vs\")\n",
    "    def _make_default_vs(self):\n",
    "        return VisSelector()\n",
    "\n",
    "    @T.default(\"cv\")\n",
    "    def _make_default_cv(self):\n",
    "        return CytoscapeVisualization(graph=self.graph)"
   ]
  },
  {
   "cell_type": "code",
   "execution_count": null,
   "metadata": {},
   "outputs": [],
   "source": [
    "ds_example = DatashaderExample()\n",
    "ds_example"
   ]
  }
 ],
 "metadata": {
  "kernelspec": {
   "display_name": "Python 3",
   "language": "python",
   "name": "python3"
  },
  "language_info": {
   "codemirror_mode": {
    "name": "ipython",
    "version": 3
   },
   "file_extension": ".py",
   "mimetype": "text/x-python",
   "name": "python",
   "nbconvert_exporter": "python",
   "pygments_lexer": "ipython3",
   "version": "3.7.8"
  }
 },
 "nbformat": 4,
 "nbformat_minor": 4
}
