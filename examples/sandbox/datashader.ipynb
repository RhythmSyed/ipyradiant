{
 "cells": [
  {
   "cell_type": "markdown",
   "metadata": {},
   "source": [
    "# Basic Datashader Example"
   ]
  },
  {
   "cell_type": "code",
   "execution_count": 1,
   "metadata": {},
   "outputs": [],
   "source": [
    "import traitlets as T\n",
    "\n",
    "import ipywidgets as W\n",
    "from ipyradiant import (\n",
    "    DatashaderVis,\n",
    "    VisSelector,\n",
    ")\n",
    "from rdflib import Graph\n",
    "from requests_cache import CachedSession"
   ]
  },
  {
   "cell_type": "code",
   "execution_count": 2,
   "metadata": {},
   "outputs": [],
   "source": [
    "session = CachedSession(\".cache\")"
   ]
  },
  {
   "cell_type": "code",
   "execution_count": 3,
   "metadata": {},
   "outputs": [],
   "source": [
    "class DatashaderExample(W.VBox):\n",
    "    ds = T.Instance(DatashaderVis)\n",
    "    vs = T.Instance(VisSelector)\n",
    "    graph = T.Instance(Graph)\n",
    "\n",
    "    def __init__(self, *args, **kwargs):\n",
    "        super().__init__(*args, **kwargs)\n",
    "        T.link((self, \"graph\"), (self.ds, \"graph\"))\n",
    "        T.link((self, \"ds\"), (self.vs, \"vis\"))\n",
    "        self.children = [self.vs, self.ds]\n",
    "\n",
    "    @T.default(\"graph\")\n",
    "    def _make_default_graph(self):\n",
    "        rdf_graph = Graph()\n",
    "        full_graph = rdf_graph.parse(\n",
    "            data= session.get(\"https://raw.githubusercontent.com/schemaorg/schemaorg/v9.0-release/data/releases/8.0/schema.nt\").text,\n",
    "            format=\"nt\",\n",
    "        )\n",
    "        return full_graph\n",
    "\n",
    "    @T.default(\"ds\")\n",
    "    def _make_default_ds(self):\n",
    "        return DatashaderVis()\n",
    "\n",
    "    @T.default(\"vs\")\n",
    "    def _make_default_vs(self):\n",
    "        return VisSelector()\n"
   ]
  },
  {
   "cell_type": "code",
   "execution_count": 4,
   "metadata": {},
   "outputs": [
    {
     "data": {
      "application/vnd.jupyter.widget-view+json": {
       "model_id": "cecea7c2dc02402ab6b04537c9c80de3",
       "version_major": 2,
       "version_minor": 0
      },
      "text/plain": [
       "DatashaderExample(children=(VisSelector(options=('Kamada Kawai', 'Circular', 'Planar', 'Random', 'Shell', 'Spe…"
      ]
     },
     "metadata": {},
     "output_type": "display_data"
    }
   ],
   "source": [
    "ds_example = DatashaderExample()\n",
    "ds_example"
   ]
  },
  {
   "cell_type": "code",
   "execution_count": 7,
   "metadata": {},
   "outputs": [
    {
     "data": {
      "text/plain": [
       "['http://schema.org/AggregateOffer',\n",
       " 'http://schema.org/AllocateAction',\n",
       " 'http://schema.org/AudioObject',\n",
       " 'http://schema.org/AuthorizeAction',\n",
       " 'http://schema.org/Distillery',\n",
       " 'http://schema.org/FinancialService',\n",
       " 'http://schema.org/GovernmentService',\n",
       " 'http://schema.org/Hardcover',\n",
       " 'http://schema.org/LeaveAction',\n",
       " 'http://schema.org/LodgingBusiness',\n",
       " 'http://schema.org/MenuItem',\n",
       " 'http://schema.org/MovingCompany',\n",
       " 'http://schema.org/MusicGroup',\n",
       " 'http://schema.org/OpeningHoursSpecification',\n",
       " 'http://schema.org/OrderPaymentDue',\n",
       " 'http://schema.org/OrderStatus',\n",
       " 'http://schema.org/ParcelDelivery',\n",
       " 'http://schema.org/PerformingGroup',\n",
       " 'http://schema.org/PlayAction',\n",
       " 'http://schema.org/PropertyValue',\n",
       " 'http://schema.org/Review',\n",
       " 'http://schema.org/TireShop',\n",
       " 'http://schema.org/UserPageVisits',\n",
       " 'http://schema.org/actor',\n",
       " 'http://schema.org/addressCountry',\n",
       " 'http://schema.org/albums',\n",
       " 'http://schema.org/alumniOf',\n",
       " 'http://schema.org/buyer',\n",
       " 'http://schema.org/category',\n",
       " 'http://schema.org/childMaxAge',\n",
       " 'http://schema.org/claimReviewed',\n",
       " 'http://schema.org/department',\n",
       " 'http://schema.org/departureAirport',\n",
       " 'http://schema.org/discusses',\n",
       " 'http://schema.org/employmentType',\n",
       " 'http://schema.org/encoding',\n",
       " 'http://schema.org/experienceRequirements',\n",
       " 'http://schema.org/geoCrosses',\n",
       " 'http://schema.org/greater',\n",
       " 'http://schema.org/mpn',\n",
       " 'http://schema.org/orderQuantity',\n",
       " 'http://schema.org/recordedIn',\n",
       " 'http://schema.org/touristType',\n",
       " 'http://schema.org/videoFrameSize',\n",
       " 'http://schema.org/workPresented',\n",
       " 'http://www.w3.org/wiki/WebSchemas/SchemaDotOrgSources#source_bibex',\n",
       " 'https://github.com/schemaorg/schemaorg/issues/1100']"
      ]
     },
     "execution_count": 7,
     "metadata": {},
     "output_type": "execute_result"
    }
   ],
   "source": [
    "ds_example.ds.selected_nodes"
   ]
  },
  {
   "cell_type": "code",
   "execution_count": null,
   "metadata": {},
   "outputs": [],
   "source": []
  }
 ],
 "metadata": {
  "kernelspec": {
   "display_name": "Python 3",
   "language": "python",
   "name": "python3"
  },
  "language_info": {
   "codemirror_mode": {
    "name": "ipython",
    "version": 3
   },
   "file_extension": ".py",
   "mimetype": "text/x-python",
   "name": "python",
   "nbconvert_exporter": "python",
   "pygments_lexer": "ipython3",
   "version": "3.7.8"
  }
 },
 "nbformat": 4,
 "nbformat_minor": 4
}
