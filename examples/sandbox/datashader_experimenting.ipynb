{
 "cells": [
  {
   "cell_type": "markdown",
   "metadata": {},
   "source": [
    "# Attempting to Get Callbacks from Holoviews Datashader Graph\n",
    "\n",
    "## Sandbox Example.. nothing in classes yet"
   ]
  },
  {
   "cell_type": "code",
   "execution_count": null,
   "metadata": {},
   "outputs": [],
   "source": [
    "import traitlets as T\n",
    "\n",
    "import bokeh.models.widgets as bk\n",
    "import holoviews as hv\n",
    "import ipycytoscape\n",
    "import ipywidgets as W\n",
    "import jupyter_bokeh as jbk\n",
    "import networkx as nx\n",
    "from bokeh.models import ColumnDataSource, CustomJS, HoverTool, TapTool\n",
    "from bokeh.plotting import figure, show\n",
    "from holoviews import streams\n",
    "from holoviews.operation.datashader import bundle_graph, datashade, dynspread\n",
    "from ipyradiant import LoadWidget\n",
    "from rdflib import BNode, Graph, Literal, URIRef\n",
    "from rdflib.extras.external_graph_libs import rdflib_to_networkx_graph\n",
    "\n",
    "hv.extension(\"bokeh\")"
   ]
  },
  {
   "cell_type": "code",
   "execution_count": null,
   "metadata": {},
   "outputs": [],
   "source": [
    "def strip_and_produce_rdf_graph(rdf_graph: Graph):\n",
    "    sparql = \"\"\"\n",
    "    CONSTRUCT {\n",
    "        ?s ?p ?o .\n",
    "    } \n",
    "    WHERE {\n",
    "        ?s ?p ?o .\n",
    "        FILTER (!isLiteral(?o)) \n",
    "        FILTER (!isLiteral(?s))\n",
    "    }\n",
    "    LIMIT 300\n",
    "    \"\"\"\n",
    "    qres = rdf_graph.query(sparql)\n",
    "    uri_graph = Graph()\n",
    "    for row in qres:\n",
    "        uri_graph.add(row)\n",
    "\n",
    "    new_netx = rdflib_to_networkx_graph(uri_graph)\n",
    "\n",
    "    original = hv.Graph.from_networkx(new_netx, nx.layout.circular_layout,)\n",
    "    output_graph = bundle_graph(original)\n",
    "    return output_graph"
   ]
  },
  {
   "cell_type": "code",
   "execution_count": null,
   "metadata": {},
   "outputs": [],
   "source": [
    "rdf_graph = Graph()\n",
    "rdf_graph.parse(\n",
    "    \"https://raw.githubusercontent.com/schemaorg/schemaorg/v9.0-release/data/releases/8.0/schema.nt\",\n",
    "    format=\"nt\",\n",
    ")\n",
    "\n",
    "output_graph = strip_and_produce_rdf_graph(rdf_graph)"
   ]
  },
  {
   "cell_type": "markdown",
   "metadata": {},
   "source": [
    "# Create Graph with tooltip involving DataFrame index...\n",
    "\n",
    "Need to figure out how to get this to produce valuable information."
   ]
  },
  {
   "cell_type": "markdown",
   "metadata": {},
   "source": [
    "## This is the best I could get so far, it seems that Selection1D doesn't want to work with this type of graph unfortunately."
   ]
  },
  {
   "cell_type": "code",
   "execution_count": null,
   "metadata": {},
   "outputs": [],
   "source": [
    "selection_stream = streams.Tap(source=output_graph)"
   ]
  },
  {
   "cell_type": "code",
   "execution_count": null,
   "metadata": {},
   "outputs": [],
   "source": [
    "def labelled_callback(x, y):\n",
    "    if x is None or y is None:\n",
    "        return hv.Text(x=0, y=0, text=\"blank passed in\")\n",
    "    return hv.Text(x=x, y=y, text=\"testing\")\n",
    "\n",
    "\n",
    "labeller = hv.DynamicMap(labelled_callback, streams=[selection_stream])"
   ]
  },
  {
   "cell_type": "code",
   "execution_count": null,
   "metadata": {},
   "outputs": [],
   "source": [
    "node_tooltips = [\n",
    "    (\"ID\", \"@index\"),\n",
    "]\n",
    "node_hover = HoverTool(tooltips=node_tooltips)"
   ]
  },
  {
   "cell_type": "markdown",
   "metadata": {},
   "source": [
    "Have to use output widget here to maintain interactivity with graph.. however if a\n",
    "different solution to callbacks is found, might be possible to go back to widget form."
   ]
  },
  {
   "cell_type": "code",
   "execution_count": null,
   "metadata": {},
   "outputs": [],
   "source": [
    "output = W.Output()"
   ]
  },
  {
   "cell_type": "code",
   "execution_count": null,
   "metadata": {},
   "outputs": [],
   "source": [
    "with output:\n",
    "    display(\n",
    "        output_graph.options(\n",
    "            frame_width=1000,\n",
    "            frame_height=1000,\n",
    "            xaxis=None,\n",
    "            yaxis=None,\n",
    "            tools=[node_hover, \"box_select\", \"tap\"],\n",
    "        )\n",
    "    )"
   ]
  },
  {
   "cell_type": "code",
   "execution_count": null,
   "metadata": {},
   "outputs": [],
   "source": [
    "output"
   ]
  },
  {
   "cell_type": "markdown",
   "metadata": {},
   "source": [
    "We can get the x/y values of where the point was clicked, but I think this is useless\n",
    "since it doesn't really tell us anything about the graph and they aren't linked to any\n",
    "points."
   ]
  },
  {
   "cell_type": "code",
   "execution_count": null,
   "metadata": {},
   "outputs": [],
   "source": [
    "labeller.streams[0].x"
   ]
  }
 ],
 "metadata": {
  "kernelspec": {
   "display_name": "Python 3",
   "language": "python",
   "name": "python3"
  },
  "language_info": {
   "codemirror_mode": {
    "name": "ipython",
    "version": 3
   },
   "file_extension": ".py",
   "mimetype": "text/x-python",
   "name": "python",
   "nbconvert_exporter": "python",
   "pygments_lexer": "ipython3",
   "version": "3.7.8"
  }
 },
 "nbformat": 4,
 "nbformat_minor": 4
}
