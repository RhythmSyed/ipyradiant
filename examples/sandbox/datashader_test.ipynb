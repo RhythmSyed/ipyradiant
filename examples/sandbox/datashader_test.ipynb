{
 "cells": [
  {
   "cell_type": "markdown",
   "metadata": {},
   "source": [
    "# A Preliminary Test for Datashading in ipyradiant\n",
    "\n",
    "This uses [importnb](https://pypi.org/project/importnb) to load the\n",
    "[datashader](.datashader.ipynb) for interactive and automated testing."
   ]
  },
  {
   "cell_type": "code",
   "execution_count": null,
   "metadata": {},
   "outputs": [],
   "source": [
    "import json\n",
    "import os\n",
    "import time\n",
    "from pathlib import Path\n",
    "\n",
    "import importnb\n",
    "from rdflib import Graph\n",
    "from requests_cache import CachedSession\n",
    "\n",
    "with importnb.Notebook():\n",
    "    try:\n",
    "        from datashader import \n",
    "    except ImportError:\n",
    "        from .datashader import "
   ]
  }
 ],
 "metadata": {
  "kernelspec": {
   "display_name": "Python 3",
   "language": "python",
   "name": "python3"
  },
  "language_info": {
   "codemirror_mode": {
    "name": "ipython",
    "version": 3
   },
   "file_extension": ".py",
   "mimetype": "text/x-python",
   "name": "python",
   "nbconvert_exporter": "python",
   "pygments_lexer": "ipython3",
   "version": "3.7.8"
  }
 },
 "nbformat": 4,
 "nbformat_minor": 4
}
