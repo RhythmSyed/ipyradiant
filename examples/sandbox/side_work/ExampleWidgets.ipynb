{
 "cells": [
  {
   "cell_type": "code",
   "execution_count": null,
   "metadata": {},
   "outputs": [],
   "source": [
    "import pandas as pd\n",
    "import qgraph\n",
    "import requests\n",
    "import requests_cache\n",
    "from rdflib import Graph, URIRef\n",
    "from rdflib.namespace import Namespace\n",
    "\n",
    "requests_cache.install_cache(\".ipyradiant\")"
   ]
  },
  {
   "cell_type": "code",
   "execution_count": null,
   "metadata": {},
   "outputs": [],
   "source": [
    "graph = Graph()\n",
    "graph.parse(\n",
    "    data=requests.get(\n",
    "        \"https://raw.githubusercontent.com/schemaorg/schemaorg/v9.0-release/data/releases/8.0/schema.nt\"\n",
    "    ).text,\n",
    "    format=\"nt\",\n",
    ")\n",
    "print(\"Number of triples in the graph:\", len(graph))"
   ]
  },
  {
   "cell_type": "code",
   "execution_count": null,
   "metadata": {},
   "outputs": [],
   "source": [
    "tmp = qgraph.QGRIDGraphWidget()\n",
    "tmp"
   ]
  },
  {
   "cell_type": "code",
   "execution_count": null,
   "metadata": {},
   "outputs": [],
   "source": [
    "# show\n",
    "tmp.qgridw.df = pd.DataFrame(graph.triples((None, None, None))).head(10)"
   ]
  }
 ],
 "metadata": {
  "kernelspec": {
   "display_name": "Python 3",
   "language": "python",
   "name": "python3"
  },
  "language_info": {
   "codemirror_mode": {
    "name": "ipython",
    "version": 3
   },
   "file_extension": ".py",
   "mimetype": "text/x-python",
   "name": "python",
   "nbconvert_exporter": "python",
   "pygments_lexer": "ipython3",
   "version": "3.7.8"
  }
 },
 "nbformat": 4,
 "nbformat_minor": 4
}
