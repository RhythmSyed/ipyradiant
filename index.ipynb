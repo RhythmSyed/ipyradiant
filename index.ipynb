{
 "cells": [
  {
   "cell_type": "markdown",
   "metadata": {},
   "source": [
    "# <img src=\"design/assets/jupyrdf.png\" alt=\"jupyrdf/ipyradiant\" style=\"width:40px;height:40px;\"> ipyradiant Index Page\n",
    "The following examples illustrate ways to use the widgets available in the `ipyradiant` package. Click on an example link to launch the notebook. "
   ]
  },
  {
   "cell_type": "markdown",
   "metadata": {},
   "source": [
    "## Examples\n",
    "### - Individual Widgets\n",
    "- <i> Coming Soon...</i>\n",
    "\n",
    "### - Aggregated Widget Tools\n",
    "- <a href=\"examples/Tab_App_Example.ipynb\">Load, Query, and Visualization Tab Application</a>"
   ]
  }
 ],
 "metadata": {
  "kernelspec": {
   "display_name": "Python 3",
   "language": "python",
   "name": "python3"
  },
  "language_info": {
   "codemirror_mode": {
    "name": "ipython",
    "version": 3
   },
   "file_extension": ".py",
   "mimetype": "text/x-python",
   "name": "python",
   "nbconvert_exporter": "python",
   "pygments_lexer": "ipython3",
   "version": "3.7.8"
  }
 },
 "nbformat": 4,
 "nbformat_minor": 4
}
